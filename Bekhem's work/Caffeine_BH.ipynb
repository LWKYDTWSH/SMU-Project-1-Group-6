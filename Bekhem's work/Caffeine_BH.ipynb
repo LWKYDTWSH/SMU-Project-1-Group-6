{
 "cells": [
  {
   "cell_type": "code",
   "execution_count": 1,
   "id": "914f3da0",
   "metadata": {},
   "outputs": [
    {
     "data": {
      "text/html": [
       "<div>\n",
       "<style scoped>\n",
       "    .dataframe tbody tr th:only-of-type {\n",
       "        vertical-align: middle;\n",
       "    }\n",
       "\n",
       "    .dataframe tbody tr th {\n",
       "        vertical-align: top;\n",
       "    }\n",
       "\n",
       "    .dataframe thead th {\n",
       "        text-align: right;\n",
       "    }\n",
       "</style>\n",
       "<table border=\"1\" class=\"dataframe\">\n",
       "  <thead>\n",
       "    <tr style=\"text-align: right;\">\n",
       "      <th></th>\n",
       "      <th>drink</th>\n",
       "      <th>Volume (ml)</th>\n",
       "      <th>Calories</th>\n",
       "      <th>Caffeine (mg)</th>\n",
       "      <th>type</th>\n",
       "    </tr>\n",
       "  </thead>\n",
       "  <tbody>\n",
       "    <tr>\n",
       "      <th>0</th>\n",
       "      <td>Costa Coffee</td>\n",
       "      <td>256.993715</td>\n",
       "      <td>0</td>\n",
       "      <td>277</td>\n",
       "      <td>Coffee</td>\n",
       "    </tr>\n",
       "    <tr>\n",
       "      <th>1</th>\n",
       "      <td>Coffee Friend Brewed Coffee</td>\n",
       "      <td>250.191810</td>\n",
       "      <td>0</td>\n",
       "      <td>145</td>\n",
       "      <td>Coffee</td>\n",
       "    </tr>\n",
       "    <tr>\n",
       "      <th>2</th>\n",
       "      <td>Hell Energy Coffee</td>\n",
       "      <td>250.191810</td>\n",
       "      <td>150</td>\n",
       "      <td>100</td>\n",
       "      <td>Coffee</td>\n",
       "    </tr>\n",
       "    <tr>\n",
       "      <th>3</th>\n",
       "      <td>Killer Coffee (AU)</td>\n",
       "      <td>250.191810</td>\n",
       "      <td>0</td>\n",
       "      <td>430</td>\n",
       "      <td>Coffee</td>\n",
       "    </tr>\n",
       "    <tr>\n",
       "      <th>4</th>\n",
       "      <td>Nescafe Gold</td>\n",
       "      <td>250.191810</td>\n",
       "      <td>0</td>\n",
       "      <td>66</td>\n",
       "      <td>Coffee</td>\n",
       "    </tr>\n",
       "  </tbody>\n",
       "</table>\n",
       "</div>"
      ],
      "text/plain": [
       "                         drink  Volume (ml)  Calories  Caffeine (mg)    type\n",
       "0                 Costa Coffee   256.993715         0            277  Coffee\n",
       "1  Coffee Friend Brewed Coffee   250.191810         0            145  Coffee\n",
       "2           Hell Energy Coffee   250.191810       150            100  Coffee\n",
       "3           Killer Coffee (AU)   250.191810         0            430  Coffee\n",
       "4                 Nescafe Gold   250.191810         0             66  Coffee"
      ]
     },
     "execution_count": 1,
     "metadata": {},
     "output_type": "execute_result"
    }
   ],
   "source": [
    "import pandas as pd\n",
    "import matplotlib.pyplot as plt\n",
    "import numpy as np\n",
    "import seaborn as sns\n",
    "import json\n",
    "import math\n",
    "\n",
    "import scipy.stats as sp\n",
    "\n",
    "import statsmodels.api as sm\n",
    "from scipy.stats import linregress\n",
    "from sklearn.linear_model import LinearRegression\n",
    "\n",
    "\n",
    "file = \"Resources/Caffeine/caffeine.csv\"\n",
    "file = pd.read_csv(file)\n",
    "file.head()\n"
   ]
  },
  {
   "cell_type": "code",
   "execution_count": 2,
   "id": "f0d2282a",
   "metadata": {},
   "outputs": [
    {
     "name": "stdout",
     "output_type": "stream",
     "text": [
      "<class 'pandas.core.frame.DataFrame'>\n",
      "RangeIndex: 610 entries, 0 to 609\n",
      "Data columns (total 5 columns):\n",
      " #   Column         Non-Null Count  Dtype  \n",
      "---  ------         --------------  -----  \n",
      " 0   drink          610 non-null    object \n",
      " 1   Volume (ml)    610 non-null    float64\n",
      " 2   Calories       610 non-null    int64  \n",
      " 3   Caffeine (mg)  610 non-null    int64  \n",
      " 4   type           610 non-null    object \n",
      "dtypes: float64(1), int64(2), object(2)\n",
      "memory usage: 24.0+ KB\n"
     ]
    }
   ],
   "source": [
    "file.info()"
   ]
  },
  {
   "cell_type": "code",
   "execution_count": 3,
   "id": "19aabe59",
   "metadata": {},
   "outputs": [
    {
     "data": {
      "text/plain": [
       "Energy Drinks    219\n",
       "Coffee           173\n",
       "Soft Drinks       90\n",
       "Tea               66\n",
       "Energy Shots      36\n",
       "Water             26\n",
       "Name: type, dtype: int64"
      ]
     },
     "execution_count": 3,
     "metadata": {},
     "output_type": "execute_result"
    }
   ],
   "source": [
    "file['type'].value_counts()"
   ]
  },
  {
   "cell_type": "code",
   "execution_count": 4,
   "id": "3257f461",
   "metadata": {},
   "outputs": [
    {
     "data": {
      "text/html": [
       "<div>\n",
       "<style scoped>\n",
       "    .dataframe tbody tr th:only-of-type {\n",
       "        vertical-align: middle;\n",
       "    }\n",
       "\n",
       "    .dataframe tbody tr th {\n",
       "        vertical-align: top;\n",
       "    }\n",
       "\n",
       "    .dataframe thead th {\n",
       "        text-align: right;\n",
       "    }\n",
       "</style>\n",
       "<table border=\"1\" class=\"dataframe\">\n",
       "  <thead>\n",
       "    <tr style=\"text-align: right;\">\n",
       "      <th></th>\n",
       "      <th>Volume (ml)</th>\n",
       "      <th>Calories</th>\n",
       "      <th>Caffeine (mg)</th>\n",
       "    </tr>\n",
       "  </thead>\n",
       "  <tbody>\n",
       "    <tr>\n",
       "      <th>count</th>\n",
       "      <td>610.000000</td>\n",
       "      <td>610.000000</td>\n",
       "      <td>610.000000</td>\n",
       "    </tr>\n",
       "    <tr>\n",
       "      <th>mean</th>\n",
       "      <td>346.543630</td>\n",
       "      <td>75.527869</td>\n",
       "      <td>134.693443</td>\n",
       "    </tr>\n",
       "    <tr>\n",
       "      <th>std</th>\n",
       "      <td>143.747738</td>\n",
       "      <td>94.799919</td>\n",
       "      <td>155.362861</td>\n",
       "    </tr>\n",
       "    <tr>\n",
       "      <th>min</th>\n",
       "      <td>7.393375</td>\n",
       "      <td>0.000000</td>\n",
       "      <td>0.000000</td>\n",
       "    </tr>\n",
       "    <tr>\n",
       "      <th>25%</th>\n",
       "      <td>236.588000</td>\n",
       "      <td>0.000000</td>\n",
       "      <td>50.000000</td>\n",
       "    </tr>\n",
       "    <tr>\n",
       "      <th>50%</th>\n",
       "      <td>354.882000</td>\n",
       "      <td>25.000000</td>\n",
       "      <td>100.000000</td>\n",
       "    </tr>\n",
       "    <tr>\n",
       "      <th>75%</th>\n",
       "      <td>473.176000</td>\n",
       "      <td>140.000000</td>\n",
       "      <td>160.000000</td>\n",
       "    </tr>\n",
       "    <tr>\n",
       "      <th>max</th>\n",
       "      <td>1419.528000</td>\n",
       "      <td>830.000000</td>\n",
       "      <td>1555.000000</td>\n",
       "    </tr>\n",
       "  </tbody>\n",
       "</table>\n",
       "</div>"
      ],
      "text/plain": [
       "       Volume (ml)    Calories  Caffeine (mg)\n",
       "count   610.000000  610.000000     610.000000\n",
       "mean    346.543630   75.527869     134.693443\n",
       "std     143.747738   94.799919     155.362861\n",
       "min       7.393375    0.000000       0.000000\n",
       "25%     236.588000    0.000000      50.000000\n",
       "50%     354.882000   25.000000     100.000000\n",
       "75%     473.176000  140.000000     160.000000\n",
       "max    1419.528000  830.000000    1555.000000"
      ]
     },
     "execution_count": 4,
     "metadata": {},
     "output_type": "execute_result"
    }
   ],
   "source": [
    "file.describe()"
   ]
  },
  {
   "cell_type": "code",
   "execution_count": 5,
   "id": "2f541a6f",
   "metadata": {},
   "outputs": [],
   "source": [
    "#Copy data frame\n",
    "df = file.copy()"
   ]
  },
  {
   "cell_type": "code",
   "execution_count": 6,
   "id": "280ac4ee",
   "metadata": {},
   "outputs": [
    {
     "data": {
      "image/png": "[encoded data removed]",
      "text/plain": [
       "<Figure size 720x432 with 1 Axes>"
      ]
     },
     "metadata": {},
     "output_type": "display_data"
    }
   ],
   "source": [
    "drink_types = df.type.value_counts().index.tolist()\n",
    "drink_type_counts = df.type.value_counts().values.tolist()\n",
    "colors = [\"firebrick\", \"purple\", \"pink\", \"yellowgreen\", \"lightskyblue\", \"lightcoral\"]\n",
    "explode = (0, 0, 0, 0, 0, 0)\n",
    "\n",
    "fig = plt.figure(figsize=(10,6))\n",
    "\n",
    "plt.title(\"Types of Energy Drinks\", fontsize = 26, fontweight = \"bold\", font = \"Times New Roman\")\n",
    "plt.axis(\"equal\")\n",
    "\n",
    "centre_circle = plt.Circle((0,0), 0.70, fc='white')\n",
    "\n",
    "\n",
    "plt.pie(drink_type_counts, explode=explode, labels=drink_types, colors=colors,\n",
    "        autopct=\"%1.1f%%\", shadow=False, startangle=40, textprops={'fontsize': 12}, pctdistance=0.85)\n",
    "\n",
    "fig.gca().add_artist(centre_circle)\n",
    "plt.show()"
   ]
  },
  {
   "cell_type": "code",
   "execution_count": 12,
   "id": "b3960224",
   "metadata": {},
   "outputs": [
    {
     "data": {
      "text/html": [
       "<div>\n",
       "<style scoped>\n",
       "    .dataframe tbody tr th:only-of-type {\n",
       "        vertical-align: middle;\n",
       "    }\n",
       "\n",
       "    .dataframe tbody tr th {\n",
       "        vertical-align: top;\n",
       "    }\n",
       "\n",
       "    .dataframe thead th {\n",
       "        text-align: right;\n",
       "    }\n",
       "</style>\n",
       "<table border=\"1\" class=\"dataframe\">\n",
       "  <thead>\n",
       "    <tr style=\"text-align: right;\">\n",
       "      <th></th>\n",
       "      <th>drink</th>\n",
       "      <th>Volume (ml)</th>\n",
       "      <th>Calories</th>\n",
       "      <th>Caffeine (mg)</th>\n",
       "      <th>type</th>\n",
       "    </tr>\n",
       "  </thead>\n",
       "  <tbody>\n",
       "    <tr>\n",
       "      <th>0</th>\n",
       "      <td>Costa Coffee</td>\n",
       "      <td>256.993715</td>\n",
       "      <td>0</td>\n",
       "      <td>277</td>\n",
       "      <td>Coffee</td>\n",
       "    </tr>\n",
       "    <tr>\n",
       "      <th>1</th>\n",
       "      <td>Coffee Friend Brewed Coffee</td>\n",
       "      <td>250.191810</td>\n",
       "      <td>0</td>\n",
       "      <td>145</td>\n",
       "      <td>Coffee</td>\n",
       "    </tr>\n",
       "    <tr>\n",
       "      <th>2</th>\n",
       "      <td>Hell Energy Coffee</td>\n",
       "      <td>250.191810</td>\n",
       "      <td>150</td>\n",
       "      <td>100</td>\n",
       "      <td>Coffee</td>\n",
       "    </tr>\n",
       "    <tr>\n",
       "      <th>3</th>\n",
       "      <td>Killer Coffee (AU)</td>\n",
       "      <td>250.191810</td>\n",
       "      <td>0</td>\n",
       "      <td>430</td>\n",
       "      <td>Coffee</td>\n",
       "    </tr>\n",
       "    <tr>\n",
       "      <th>4</th>\n",
       "      <td>Nescafe Gold</td>\n",
       "      <td>250.191810</td>\n",
       "      <td>0</td>\n",
       "      <td>66</td>\n",
       "      <td>Coffee</td>\n",
       "    </tr>\n",
       "    <tr>\n",
       "      <th>...</th>\n",
       "      <td>...</td>\n",
       "      <td>...</td>\n",
       "      <td>...</td>\n",
       "      <td>...</td>\n",
       "      <td>...</td>\n",
       "    </tr>\n",
       "    <tr>\n",
       "      <th>605</th>\n",
       "      <td>Pep Talk Sparkling Water</td>\n",
       "      <td>354.882000</td>\n",
       "      <td>0</td>\n",
       "      <td>55</td>\n",
       "      <td>Water</td>\n",
       "    </tr>\n",
       "    <tr>\n",
       "      <th>606</th>\n",
       "      <td>Polar Seltzer Water</td>\n",
       "      <td>354.882000</td>\n",
       "      <td>0</td>\n",
       "      <td>0</td>\n",
       "      <td>Water</td>\n",
       "    </tr>\n",
       "    <tr>\n",
       "      <th>607</th>\n",
       "      <td>Yerbae Sparkling Water</td>\n",
       "      <td>354.882000</td>\n",
       "      <td>0</td>\n",
       "      <td>100</td>\n",
       "      <td>Water</td>\n",
       "    </tr>\n",
       "    <tr>\n",
       "      <th>608</th>\n",
       "      <td>Tonic Water</td>\n",
       "      <td>295.735000</td>\n",
       "      <td>110</td>\n",
       "      <td>0</td>\n",
       "      <td>Water</td>\n",
       "    </tr>\n",
       "    <tr>\n",
       "      <th>609</th>\n",
       "      <td>MiO Energy Water Enhancer</td>\n",
       "      <td>236.588000</td>\n",
       "      <td>0</td>\n",
       "      <td>60</td>\n",
       "      <td>Water</td>\n",
       "    </tr>\n",
       "  </tbody>\n",
       "</table>\n",
       "<p>610 rows × 5 columns</p>\n",
       "</div>"
      ],
      "text/plain": [
       "                           drink  Volume (ml)  Calories  Caffeine (mg)    type\n",
       "0                   Costa Coffee   256.993715         0            277  Coffee\n",
       "1    Coffee Friend Brewed Coffee   250.191810         0            145  Coffee\n",
       "2             Hell Energy Coffee   250.191810       150            100  Coffee\n",
       "3             Killer Coffee (AU)   250.191810         0            430  Coffee\n",
       "4                   Nescafe Gold   250.191810         0             66  Coffee\n",
       "..                           ...          ...       ...            ...     ...\n",
       "605     Pep Talk Sparkling Water   354.882000         0             55   Water\n",
       "606          Polar Seltzer Water   354.882000         0              0   Water\n",
       "607       Yerbae Sparkling Water   354.882000         0            100   Water\n",
       "608                  Tonic Water   295.735000       110              0   Water\n",
       "609    MiO Energy Water Enhancer   236.588000         0             60   Water\n",
       "\n",
       "[610 rows x 5 columns]"
      ]
     },
     "execution_count": 12,
     "metadata": {},
     "output_type": "execute_result"
    }
   ],
   "source": [
    "file"
   ]
  },
  {
   "cell_type": "code",
   "execution_count": 7,
   "id": "f11c7732",
   "metadata": {},
   "outputs": [
    {
     "data": {
      "text/plain": [
       "drink            Starbucks Via Ready Brew\n",
       "Volume (ml)                      1419.528\n",
       "Calories                              370\n",
       "Caffeine (mg)                         640\n",
       "type                          Soft Drinks\n",
       "dtype: object"
      ]
     },
     "execution_count": 7,
     "metadata": {},
     "output_type": "execute_result"
    }
   ],
   "source": [
    "#Create a dataframe calling out individual brands for comparison\n",
    "df = df.loc[df.drink.str.contains (\"Starbucks\")]\n",
    "#Find max of caffine content per pop. type brand\n",
    "df.value_counts(\"Caffeine (mg)\")\n",
    "df.max()"
   ]
  },
  {
   "cell_type": "code",
   "execution_count": 11,
   "id": "2846d8b9",
   "metadata": {},
   "outputs": [
    {
     "data": {
      "text/plain": [
       "drink            Dunkin' Donuts Latte\n",
       "Volume (ml)                   709.764\n",
       "Calories                          350\n",
       "Caffeine (mg)                     297\n",
       "type                              Tea\n",
       "dtype: object"
      ]
     },
     "execution_count": 11,
     "metadata": {},
     "output_type": "execute_result"
    }
   ],
   "source": [
    "#Create a dataframe calling out individual brands for comparison\n",
    "df = df.loc[df.drink.str.contains (\"Dunkin\")]\n",
    "#Find max of caffine content per pop. type brand\n",
    "df.value_counts(\"Caffeine (mg)\")\n",
    "df.max()"
   ]
  },
  {
   "cell_type": "code",
   "execution_count": 19,
   "id": "bfd5e8e6",
   "metadata": {},
   "outputs": [
    {
     "data": {
      "text/plain": [
       "drink            MiO Energy Water Enhancer\n",
       "Volume (ml)                        236.588\n",
       "Calories                                 0\n",
       "Caffeine (mg)                           60\n",
       "type                                 Water\n",
       "dtype: object"
      ]
     },
     "execution_count": 19,
     "metadata": {},
     "output_type": "execute_result"
    }
   ],
   "source": [
    "#Create a dataframe calling out individual brands for comparison\n",
    "df1 = file.loc[file.drink.str.contains (\"MiO\")]\n",
    "#Find max of caffine content per pop. type brand\n",
    "df1.value_counts(\"Caffeine (mg)\")\n",
    "df1.max()"
   ]
  },
  {
   "cell_type": "code",
   "execution_count": null,
   "id": "f1acbe14",
   "metadata": {},
   "outputs": [],
   "source": [
    "#find a way to loop through all 6 types to find the df.max beverage by caffeine content\n",
    "\n",
    "\n",
    "\n",
    "#Create a bar chart comparing all maxes, or which ever graph represents the data best\n",
    "\n"
   ]
  },
  {
   "cell_type": "code",
   "execution_count": null,
   "id": "97ed0ec5",
   "metadata": {},
   "outputs": [],
   "source": []
  },
  {
   "cell_type": "code",
   "execution_count": null,
   "id": "1b871c78",
   "metadata": {},
   "outputs": [],
   "source": []
  },
  {
   "cell_type": "code",
   "execution_count": null,
   "id": "45df48b3",
   "metadata": {},
   "outputs": [],
   "source": []
  },
  {
   "cell_type": "code",
   "execution_count": null,
   "id": "6221781b",
   "metadata": {},
   "outputs": [],
   "source": []
  },
  {
   "cell_type": "code",
   "execution_count": null,
   "id": "480abb35",
   "metadata": {},
   "outputs": [],
   "source": []
  },
  {
   "cell_type": "code",
   "execution_count": 9,
   "id": "c9f1b9c9",
   "metadata": {},
   "outputs": [
    {
     "name": "stdout",
     "output_type": "stream",
     "text": [
      "<pandas.core.groupby.generic.DataFrameGroupBy object at 0x000002C06FA2FBB0>\n"
     ]
    },
    {
     "data": {
      "text/html": [
       "<div>\n",
       "<style scoped>\n",
       "    .dataframe tbody tr th:only-of-type {\n",
       "        vertical-align: middle;\n",
       "    }\n",
       "\n",
       "    .dataframe tbody tr th {\n",
       "        vertical-align: top;\n",
       "    }\n",
       "\n",
       "    .dataframe thead th {\n",
       "        text-align: right;\n",
       "    }\n",
       "</style>\n",
       "<table border=\"1\" class=\"dataframe\">\n",
       "  <thead>\n",
       "    <tr style=\"text-align: right;\">\n",
       "      <th></th>\n",
       "      <th>drink</th>\n",
       "      <th>Volume (ml)</th>\n",
       "      <th>Calories</th>\n",
       "      <th>Caffeine (mg)</th>\n",
       "      <th>type</th>\n",
       "    </tr>\n",
       "  </thead>\n",
       "  <tbody>\n",
       "    <tr>\n",
       "      <th>0</th>\n",
       "      <td>Costa Coffee</td>\n",
       "      <td>256.993715</td>\n",
       "      <td>0</td>\n",
       "      <td>277</td>\n",
       "      <td>Coffee</td>\n",
       "    </tr>\n",
       "    <tr>\n",
       "      <th>1</th>\n",
       "      <td>Coffee Friend Brewed Coffee</td>\n",
       "      <td>250.191810</td>\n",
       "      <td>0</td>\n",
       "      <td>145</td>\n",
       "      <td>Coffee</td>\n",
       "    </tr>\n",
       "    <tr>\n",
       "      <th>2</th>\n",
       "      <td>Hell Energy Coffee</td>\n",
       "      <td>250.191810</td>\n",
       "      <td>150</td>\n",
       "      <td>100</td>\n",
       "      <td>Coffee</td>\n",
       "    </tr>\n",
       "    <tr>\n",
       "      <th>3</th>\n",
       "      <td>Killer Coffee (AU)</td>\n",
       "      <td>250.191810</td>\n",
       "      <td>0</td>\n",
       "      <td>430</td>\n",
       "      <td>Coffee</td>\n",
       "    </tr>\n",
       "    <tr>\n",
       "      <th>4</th>\n",
       "      <td>Nescafe Gold</td>\n",
       "      <td>250.191810</td>\n",
       "      <td>0</td>\n",
       "      <td>66</td>\n",
       "      <td>Coffee</td>\n",
       "    </tr>\n",
       "    <tr>\n",
       "      <th>...</th>\n",
       "      <td>...</td>\n",
       "      <td>...</td>\n",
       "      <td>...</td>\n",
       "      <td>...</td>\n",
       "      <td>...</td>\n",
       "    </tr>\n",
       "    <tr>\n",
       "      <th>605</th>\n",
       "      <td>Pep Talk Sparkling Water</td>\n",
       "      <td>354.882000</td>\n",
       "      <td>0</td>\n",
       "      <td>55</td>\n",
       "      <td>Water</td>\n",
       "    </tr>\n",
       "    <tr>\n",
       "      <th>606</th>\n",
       "      <td>Polar Seltzer Water</td>\n",
       "      <td>354.882000</td>\n",
       "      <td>0</td>\n",
       "      <td>0</td>\n",
       "      <td>Water</td>\n",
       "    </tr>\n",
       "    <tr>\n",
       "      <th>607</th>\n",
       "      <td>Yerbae Sparkling Water</td>\n",
       "      <td>354.882000</td>\n",
       "      <td>0</td>\n",
       "      <td>100</td>\n",
       "      <td>Water</td>\n",
       "    </tr>\n",
       "    <tr>\n",
       "      <th>608</th>\n",
       "      <td>Tonic Water</td>\n",
       "      <td>295.735000</td>\n",
       "      <td>110</td>\n",
       "      <td>0</td>\n",
       "      <td>Water</td>\n",
       "    </tr>\n",
       "    <tr>\n",
       "      <th>609</th>\n",
       "      <td>MiO Energy Water Enhancer</td>\n",
       "      <td>236.588000</td>\n",
       "      <td>0</td>\n",
       "      <td>60</td>\n",
       "      <td>Water</td>\n",
       "    </tr>\n",
       "  </tbody>\n",
       "</table>\n",
       "<p>610 rows × 5 columns</p>\n",
       "</div>"
      ],
      "text/plain": [
       "                           drink  Volume (ml)  Calories  Caffeine (mg)    type\n",
       "0                   Costa Coffee   256.993715         0            277  Coffee\n",
       "1    Coffee Friend Brewed Coffee   250.191810         0            145  Coffee\n",
       "2             Hell Energy Coffee   250.191810       150            100  Coffee\n",
       "3             Killer Coffee (AU)   250.191810         0            430  Coffee\n",
       "4                   Nescafe Gold   250.191810         0             66  Coffee\n",
       "..                           ...          ...       ...            ...     ...\n",
       "605     Pep Talk Sparkling Water   354.882000         0             55   Water\n",
       "606          Polar Seltzer Water   354.882000         0              0   Water\n",
       "607       Yerbae Sparkling Water   354.882000         0            100   Water\n",
       "608                  Tonic Water   295.735000       110              0   Water\n",
       "609    MiO Energy Water Enhancer   236.588000         0             60   Water\n",
       "\n",
       "[610 rows x 5 columns]"
      ]
     },
     "execution_count": 9,
     "metadata": {},
     "output_type": "execute_result"
    }
   ],
   "source": [
    "type_group = file.groupby([\"type\"])\n",
    "print(type_group)\n",
    "\n",
    "type_group.count().head(10)\n",
    "\n",
    "df = pd.DataFrame(file)\n",
    "df"
   ]
  },
  {
   "cell_type": "code",
   "execution_count": null,
   "id": "62860fd5",
   "metadata": {},
   "outputs": [],
   "source": []
  },
  {
   "cell_type": "code",
   "execution_count": null,
   "id": "fdf616e6",
   "metadata": {},
   "outputs": [],
   "source": []
  },
  {
   "cell_type": "code",
   "execution_count": null,
   "id": "4fc5ba4d",
   "metadata": {},
   "outputs": [],
   "source": []
  },
  {
   "cell_type": "code",
   "execution_count": null,
   "id": "d9d55ea3",
   "metadata": {},
   "outputs": [],
   "source": []
  },
  {
   "cell_type": "code",
   "execution_count": null,
   "id": "8fa987af",
   "metadata": {},
   "outputs": [],
   "source": []
  },
  {
   "cell_type": "code",
   "execution_count": null,
   "id": "9c2c0d3a",
   "metadata": {},
   "outputs": [],
   "source": []
  },
  {
   "cell_type": "code",
   "execution_count": null,
   "id": "b19d309c",
   "metadata": {},
   "outputs": [],
   "source": []
  },
  {
   "cell_type": "code",
   "execution_count": null,
   "id": "3bbf9a55",
   "metadata": {},
   "outputs": [],
   "source": []
  },
  {
   "cell_type": "code",
   "execution_count": null,
   "id": "8dca9c09",
   "metadata": {},
   "outputs": [],
   "source": []
  },
  {
   "cell_type": "code",
   "execution_count": null,
   "id": "2736d8b1",
   "metadata": {},
   "outputs": [],
   "source": []
  },
  {
   "cell_type": "code",
   "execution_count": 10,
   "id": "01b3f22d",
   "metadata": {},
   "outputs": [
    {
     "ename": "NameError",
     "evalue": "name 'stats' is not defined",
     "output_type": "error",
     "traceback": [
      "\u001b[1;31m---------------------------------------------------------------------------\u001b[0m",
      "\u001b[1;31mNameError\u001b[0m                                 Traceback (most recent call last)",
      "Input \u001b[1;32mIn [10]\u001b[0m, in \u001b[0;36m<cell line: 8>\u001b[1;34m()\u001b[0m\n\u001b[0;32m      5\u001b[0m group4 \u001b[38;5;241m=\u001b[39m df[df[\u001b[38;5;124m\"\u001b[39m\u001b[38;5;124mVolume (ml)\u001b[39m\u001b[38;5;124m\"\u001b[39m] \u001b[38;5;241m==\u001b[39m \u001b[38;5;241m4\u001b[39m][\u001b[38;5;124m\"\u001b[39m\u001b[38;5;124mCalories\u001b[39m\u001b[38;5;124m\"\u001b[39m]\n\u001b[0;32m      7\u001b[0m \u001b[38;5;66;03m# Perform the ANOVA\u001b[39;00m\n\u001b[1;32m----> 8\u001b[0m \u001b[43mstats\u001b[49m\u001b[38;5;241m.\u001b[39mf_oneway(group0, group1, group2, group3, group4)\n",
      "\u001b[1;31mNameError\u001b[0m: name 'stats' is not defined"
     ]
    }
   ],
   "source": [
    "\n",
    "\n",
    "group0 = df[df[\"Volume (ml)\"] == 0][\"Calories\"]\n",
    "group1 = df[df[\"Volume (ml)\"] == 1][\"Calories\"]\n",
    "group2 = df[df[\"Volume (ml)\"] == 2][\"Calories\"]\n",
    "group3 = df[df[\"Volume (ml)\"] == 3][\"Calories\"]\n",
    "group4 = df[df[\"Volume (ml)\"] == 4][\"Calories\"]\n",
    "\n",
    "# Perform the ANOVA\n",
    "stats.f_oneway(group0, group1, group2, group3, group4)\n"
   ]
  },
  {
   "cell_type": "code",
   "execution_count": null,
   "id": "5958631e",
   "metadata": {},
   "outputs": [],
   "source": [
    "stats.ttest_ind(group0, group4, equal_var=False)"
   ]
  },
  {
   "cell_type": "code",
   "execution_count": null,
   "id": "f81039b8",
   "metadata": {},
   "outputs": [],
   "source": []
  }
 ],
 "metadata": {
  "kernelspec": {
   "display_name": "Python 3 (ipykernel)",
   "language": "python",
   "name": "python3"
  },
  "language_info": {
   "codemirror_mode": {
    "name": "ipython",
    "version": 3
   },
   "file_extension": ".py",
   "mimetype": "text/x-python",
   "name": "python",
   "nbconvert_exporter": "python",
   "pygments_lexer": "ipython3",
   "version": "3.9.12"
  }
 },
 "nbformat": 4,
 "nbformat_minor": 5
}
