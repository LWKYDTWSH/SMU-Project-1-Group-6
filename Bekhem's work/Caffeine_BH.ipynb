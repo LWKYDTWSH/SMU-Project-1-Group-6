{
 "cells": [
  {
   "cell_type": "code",
   "execution_count": 1,
   "id": "914f3da0",
   "metadata": {},
   "outputs": [
    {
     "data": {
      "text/html": [
       "<div>\n",
       "<style scoped>\n",
       "    .dataframe tbody tr th:only-of-type {\n",
       "        vertical-align: middle;\n",
       "    }\n",
       "\n",
       "    .dataframe tbody tr th {\n",
       "        vertical-align: top;\n",
       "    }\n",
       "\n",
       "    .dataframe thead th {\n",
       "        text-align: right;\n",
       "    }\n",
       "</style>\n",
       "<table border=\"1\" class=\"dataframe\">\n",
       "  <thead>\n",
       "    <tr style=\"text-align: right;\">\n",
       "      <th></th>\n",
       "      <th>drink</th>\n",
       "      <th>Volume (ml)</th>\n",
       "      <th>Calories</th>\n",
       "      <th>Caffeine (mg)</th>\n",
       "      <th>type</th>\n",
       "    </tr>\n",
       "  </thead>\n",
       "  <tbody>\n",
       "    <tr>\n",
       "      <th>0</th>\n",
       "      <td>Costa Coffee</td>\n",
       "      <td>256.993715</td>\n",
       "      <td>0</td>\n",
       "      <td>277</td>\n",
       "      <td>Coffee</td>\n",
       "    </tr>\n",
       "    <tr>\n",
       "      <th>1</th>\n",
       "      <td>Coffee Friend Brewed Coffee</td>\n",
       "      <td>250.191810</td>\n",
       "      <td>0</td>\n",
       "      <td>145</td>\n",
       "      <td>Coffee</td>\n",
       "    </tr>\n",
       "    <tr>\n",
       "      <th>2</th>\n",
       "      <td>Hell Energy Coffee</td>\n",
       "      <td>250.191810</td>\n",
       "      <td>150</td>\n",
       "      <td>100</td>\n",
       "      <td>Coffee</td>\n",
       "    </tr>\n",
       "    <tr>\n",
       "      <th>3</th>\n",
       "      <td>Killer Coffee (AU)</td>\n",
       "      <td>250.191810</td>\n",
       "      <td>0</td>\n",
       "      <td>430</td>\n",
       "      <td>Coffee</td>\n",
       "    </tr>\n",
       "    <tr>\n",
       "      <th>4</th>\n",
       "      <td>Nescafe Gold</td>\n",
       "      <td>250.191810</td>\n",
       "      <td>0</td>\n",
       "      <td>66</td>\n",
       "      <td>Coffee</td>\n",
       "    </tr>\n",
       "  </tbody>\n",
       "</table>\n",
       "</div>"
      ],
      "text/plain": [
       "                         drink  Volume (ml)  Calories  Caffeine (mg)    type\n",
       "0                 Costa Coffee   256.993715         0            277  Coffee\n",
       "1  Coffee Friend Brewed Coffee   250.191810         0            145  Coffee\n",
       "2           Hell Energy Coffee   250.191810       150            100  Coffee\n",
       "3           Killer Coffee (AU)   250.191810         0            430  Coffee\n",
       "4                 Nescafe Gold   250.191810         0             66  Coffee"
      ]
     },
     "execution_count": 1,
     "metadata": {},
     "output_type": "execute_result"
    }
   ],
   "source": [
    "import pandas as pd\n",
    "\n",
    "file = \"Resources/Caffeine/caffeine.csv\"\n",
    "file = pd.read_csv(file)\n",
    "file.head()\n"
   ]
  },
  {
   "cell_type": "code",
   "execution_count": 2,
   "id": "f0d2282a",
   "metadata": {},
   "outputs": [
    {
     "name": "stdout",
     "output_type": "stream",
     "text": [
      "<class 'pandas.core.frame.DataFrame'>\n",
      "RangeIndex: 610 entries, 0 to 609\n",
      "Data columns (total 5 columns):\n",
      " #   Column         Non-Null Count  Dtype  \n",
      "---  ------         --------------  -----  \n",
      " 0   drink          610 non-null    object \n",
      " 1   Volume (ml)    610 non-null    float64\n",
      " 2   Calories       610 non-null    int64  \n",
      " 3   Caffeine (mg)  610 non-null    int64  \n",
      " 4   type           610 non-null    object \n",
      "dtypes: float64(1), int64(2), object(2)\n",
      "memory usage: 24.0+ KB\n"
     ]
    }
   ],
   "source": [
    "file.info()"
   ]
  },
  {
   "cell_type": "code",
   "execution_count": 3,
   "id": "19aabe59",
   "metadata": {},
   "outputs": [
    {
     "data": {
      "text/plain": [
       "Energy Drinks    219\n",
       "Coffee           173\n",
       "Soft Drinks       90\n",
       "Tea               66\n",
       "Energy Shots      36\n",
       "Water             26\n",
       "Name: type, dtype: int64"
      ]
     },
     "execution_count": 3,
     "metadata": {},
     "output_type": "execute_result"
    }
   ],
   "source": [
    "file['type'].value_counts()"
   ]
  },
  {
   "cell_type": "code",
   "execution_count": 4,
   "id": "3257f461",
   "metadata": {},
   "outputs": [
    {
     "data": {
      "text/html": [
       "<div>\n",
       "<style scoped>\n",
       "    .dataframe tbody tr th:only-of-type {\n",
       "        vertical-align: middle;\n",
       "    }\n",
       "\n",
       "    .dataframe tbody tr th {\n",
       "        vertical-align: top;\n",
       "    }\n",
       "\n",
       "    .dataframe thead th {\n",
       "        text-align: right;\n",
       "    }\n",
       "</style>\n",
       "<table border=\"1\" class=\"dataframe\">\n",
       "  <thead>\n",
       "    <tr style=\"text-align: right;\">\n",
       "      <th></th>\n",
       "      <th>Volume (ml)</th>\n",
       "      <th>Calories</th>\n",
       "      <th>Caffeine (mg)</th>\n",
       "    </tr>\n",
       "  </thead>\n",
       "  <tbody>\n",
       "    <tr>\n",
       "      <th>count</th>\n",
       "      <td>610.000000</td>\n",
       "      <td>610.000000</td>\n",
       "      <td>610.000000</td>\n",
       "    </tr>\n",
       "    <tr>\n",
       "      <th>mean</th>\n",
       "      <td>346.543630</td>\n",
       "      <td>75.527869</td>\n",
       "      <td>134.693443</td>\n",
       "    </tr>\n",
       "    <tr>\n",
       "      <th>std</th>\n",
       "      <td>143.747738</td>\n",
       "      <td>94.799919</td>\n",
       "      <td>155.362861</td>\n",
       "    </tr>\n",
       "    <tr>\n",
       "      <th>min</th>\n",
       "      <td>7.393375</td>\n",
       "      <td>0.000000</td>\n",
       "      <td>0.000000</td>\n",
       "    </tr>\n",
       "    <tr>\n",
       "      <th>25%</th>\n",
       "      <td>236.588000</td>\n",
       "      <td>0.000000</td>\n",
       "      <td>50.000000</td>\n",
       "    </tr>\n",
       "    <tr>\n",
       "      <th>50%</th>\n",
       "      <td>354.882000</td>\n",
       "      <td>25.000000</td>\n",
       "      <td>100.000000</td>\n",
       "    </tr>\n",
       "    <tr>\n",
       "      <th>75%</th>\n",
       "      <td>473.176000</td>\n",
       "      <td>140.000000</td>\n",
       "      <td>160.000000</td>\n",
       "    </tr>\n",
       "    <tr>\n",
       "      <th>max</th>\n",
       "      <td>1419.528000</td>\n",
       "      <td>830.000000</td>\n",
       "      <td>1555.000000</td>\n",
       "    </tr>\n",
       "  </tbody>\n",
       "</table>\n",
       "</div>"
      ],
      "text/plain": [
       "       Volume (ml)    Calories  Caffeine (mg)\n",
       "count   610.000000  610.000000     610.000000\n",
       "mean    346.543630   75.527869     134.693443\n",
       "std     143.747738   94.799919     155.362861\n",
       "min       7.393375    0.000000       0.000000\n",
       "25%     236.588000    0.000000      50.000000\n",
       "50%     354.882000   25.000000     100.000000\n",
       "75%     473.176000  140.000000     160.000000\n",
       "max    1419.528000  830.000000    1555.000000"
      ]
     },
     "execution_count": 4,
     "metadata": {},
     "output_type": "execute_result"
    }
   ],
   "source": [
    "file.describe()"
   ]
  },
  {
   "cell_type": "code",
   "execution_count": 5,
   "id": "c9f1b9c9",
   "metadata": {},
   "outputs": [
    {
     "name": "stdout",
     "output_type": "stream",
     "text": [
      "<pandas.core.groupby.generic.DataFrameGroupBy object at 0x000001EBD3A60640>\n"
     ]
    },
    {
     "data": {
      "text/html": [
       "<div>\n",
       "<style scoped>\n",
       "    .dataframe tbody tr th:only-of-type {\n",
       "        vertical-align: middle;\n",
       "    }\n",
       "\n",
       "    .dataframe tbody tr th {\n",
       "        vertical-align: top;\n",
       "    }\n",
       "\n",
       "    .dataframe thead th {\n",
       "        text-align: right;\n",
       "    }\n",
       "</style>\n",
       "<table border=\"1\" class=\"dataframe\">\n",
       "  <thead>\n",
       "    <tr style=\"text-align: right;\">\n",
       "      <th></th>\n",
       "      <th>drink</th>\n",
       "      <th>Volume (ml)</th>\n",
       "      <th>Calories</th>\n",
       "      <th>Caffeine (mg)</th>\n",
       "    </tr>\n",
       "    <tr>\n",
       "      <th>type</th>\n",
       "      <th></th>\n",
       "      <th></th>\n",
       "      <th></th>\n",
       "      <th></th>\n",
       "    </tr>\n",
       "  </thead>\n",
       "  <tbody>\n",
       "    <tr>\n",
       "      <th>Coffee</th>\n",
       "      <td>173</td>\n",
       "      <td>173</td>\n",
       "      <td>173</td>\n",
       "      <td>173</td>\n",
       "    </tr>\n",
       "    <tr>\n",
       "      <th>Energy Drinks</th>\n",
       "      <td>219</td>\n",
       "      <td>219</td>\n",
       "      <td>219</td>\n",
       "      <td>219</td>\n",
       "    </tr>\n",
       "    <tr>\n",
       "      <th>Energy Shots</th>\n",
       "      <td>36</td>\n",
       "      <td>36</td>\n",
       "      <td>36</td>\n",
       "      <td>36</td>\n",
       "    </tr>\n",
       "    <tr>\n",
       "      <th>Soft Drinks</th>\n",
       "      <td>90</td>\n",
       "      <td>90</td>\n",
       "      <td>90</td>\n",
       "      <td>90</td>\n",
       "    </tr>\n",
       "    <tr>\n",
       "      <th>Tea</th>\n",
       "      <td>66</td>\n",
       "      <td>66</td>\n",
       "      <td>66</td>\n",
       "      <td>66</td>\n",
       "    </tr>\n",
       "    <tr>\n",
       "      <th>Water</th>\n",
       "      <td>26</td>\n",
       "      <td>26</td>\n",
       "      <td>26</td>\n",
       "      <td>26</td>\n",
       "    </tr>\n",
       "  </tbody>\n",
       "</table>\n",
       "</div>"
      ],
      "text/plain": [
       "               drink  Volume (ml)  Calories  Caffeine (mg)\n",
       "type                                                      \n",
       "Coffee           173          173       173            173\n",
       "Energy Drinks    219          219       219            219\n",
       "Energy Shots      36           36        36             36\n",
       "Soft Drinks       90           90        90             90\n",
       "Tea               66           66        66             66\n",
       "Water             26           26        26             26"
      ]
     },
     "execution_count": 5,
     "metadata": {},
     "output_type": "execute_result"
    }
   ],
   "source": [
    "type_group = file.groupby([\"type\"])\n",
    "print(type_group)\n",
    "\n",
    "type_group.count().head(10)"
   ]
  },
  {
   "cell_type": "code",
   "execution_count": null,
   "id": "01b3f22d",
   "metadata": {},
   "outputs": [],
   "source": []
  },
  {
   "cell_type": "code",
   "execution_count": null,
   "id": "5958631e",
   "metadata": {},
   "outputs": [],
   "source": []
  },
  {
   "cell_type": "code",
   "execution_count": null,
   "id": "f81039b8",
   "metadata": {},
   "outputs": [],
   "source": []
  }
 ],
 "metadata": {
  "kernelspec": {
   "display_name": "Python 3 (ipykernel)",
   "language": "python",
   "name": "python3"
  },
  "language_info": {
   "codemirror_mode": {
    "name": "ipython",
    "version": 3
   },
   "file_extension": ".py",
   "mimetype": "text/x-python",
   "name": "python",
   "nbconvert_exporter": "python",
   "pygments_lexer": "ipython3",
   "version": "3.9.12"
  }
 },
 "nbformat": 4,
 "nbformat_minor": 5
}
